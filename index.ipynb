{
 "cells": [
  {
   "cell_type": "code",
   "execution_count": null,
   "metadata": {},
   "outputs": [],
   "source": [
    "#hide\n",
    "from relational.core import *"
   ]
  },
  {
   "cell_type": "markdown",
   "metadata": {},
   "source": [
    "# A Minimal Relational Function\n",
    "\n",
    "> PyTorch/Numpy agnostic function implementing the relational block from [A simple neural network module for relational reasoning][relational].\n",
    "\n",
    "[relational]: https://arxiv.org/abs/1706.01427"
   ]
  },
  {
   "cell_type": "markdown",
   "metadata": {},
   "source": [
    "I wrote this in one day to learn how to use [nbdev][]. I'm pretty sure it's correct but it only implements the core function for using relational networks and none of the other stuff (such as `nn.Module` classes etc) that [Kai included in the pull request][kai].\n",
    "\n",
    "[kai]: https://github.com/pytorch/pytorch/pull/2105\n",
    "[nbdev]: https://nbdev.fast.ai"
   ]
  },
  {
   "cell_type": "markdown",
   "metadata": {},
   "source": [
    "## Install"
   ]
  },
  {
   "cell_type": "markdown",
   "metadata": {},
   "source": [
    "`pip install relational`"
   ]
  },
  {
   "cell_type": "markdown",
   "metadata": {},
   "source": [
    "## How to use"
   ]
  },
  {
   "cell_type": "markdown",
   "metadata": {},
   "source": [
    "This can be used to implement a relational network in PyTorch. An example would be something like:"
   ]
  },
  {
   "cell_type": "code",
   "execution_count": null,
   "metadata": {},
   "outputs": [],
   "source": [
    "import torch\n",
    "import torch.nn as nn"
   ]
  },
  {
   "cell_type": "code",
   "execution_count": null,
   "metadata": {},
   "outputs": [],
   "source": [
    "#hide\n",
    "_ = torch.manual_seed(0)"
   ]
  },
  {
   "cell_type": "code",
   "execution_count": null,
   "metadata": {},
   "outputs": [],
   "source": [
    "class SetNet(nn.Module):\n",
    "    def __init__(self, datadim, n_hidden):\n",
    "        super(SetNet, self).__init__()\n",
    "        self.n_hidden = n_hidden\n",
    "        self.g = nn.Sequential(nn.Linear(datadim*2, n_hidden), \n",
    "                               nn.ReLU(),\n",
    "                               nn.Linear(n_hidden, n_hidden))\n",
    "        self.f = nn.Sequential(nn.Linear(n_hidden, n_hidden),\n",
    "                               nn.ReLU(),\n",
    "                               nn.Linear(n_hidden, n_hidden))\n",
    "\n",
    "    def forward(self, x):\n",
    "        n, t, d = x.size()\n",
    "        x = relation(x, self.g, reduction='mean')\n",
    "        return self.f(x)"
   ]
  },
  {
   "cell_type": "code",
   "execution_count": null,
   "metadata": {},
   "outputs": [
    {
     "data": {
      "text/plain": [
       "torch.Size([4, 10])"
      ]
     },
     "execution_count": null,
     "metadata": {},
     "output_type": "execute_result"
    }
   ],
   "source": [
    "x = torch.randn(4, 8, 16)\n",
    "setnet = SetNet(x.size(2), 10)\n",
    "setnet(x).size()"
   ]
  }
 ],
 "metadata": {
  "kernelspec": {
   "display_name": "Python 3",
   "language": "python",
   "name": "python3"
  }
 },
 "nbformat": 4,
 "nbformat_minor": 2
}

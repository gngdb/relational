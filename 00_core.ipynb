{
 "cells": [
  {
   "cell_type": "code",
   "execution_count": null,
   "metadata": {},
   "outputs": [],
   "source": [
    "# default_exp core"
   ]
  },
  {
   "cell_type": "markdown",
   "metadata": {},
   "source": [
    "# relational\n",
    "\n",
    "> This module implements a single function containing the relational block from [A simple neural network module for relational reasoning][relational].\n",
    "\n",
    "[relational]: https://arxiv.org/abs/1706.01427"
   ]
  },
  {
   "cell_type": "code",
   "execution_count": null,
   "metadata": {},
   "outputs": [],
   "source": [
    "#hide\n",
    "from nbdev.showdoc import *"
   ]
  },
  {
   "cell_type": "markdown",
   "metadata": {},
   "source": [
    "I'm going to show that this works with Numpy and PyTorch without doing anything else:"
   ]
  },
  {
   "cell_type": "code",
   "execution_count": null,
   "metadata": {},
   "outputs": [
    {
     "name": "stdout",
     "output_type": "stream",
     "text": [
      "Looking in links: https://download.pytorch.org/whl/torch_stable.html\n",
      "Collecting torch==1.8.1+cpu\n",
      "  Using cached https://download.pytorch.org/whl/cpu/torch-1.8.1%2Bcpu-cp39-cp39-linux_x86_64.whl (169.1 MB)\n",
      "Collecting typing-extensions\n",
      "  Using cached typing_extensions-3.10.0.0-py3-none-any.whl (26 kB)\n",
      "Requirement already satisfied: numpy in /home/gngdb/miniconda3/envs/nbdev/lib/python3.9/site-packages (from torch==1.8.1+cpu) (1.20.3)\n",
      "Installing collected packages: typing-extensions, torch\n",
      "Successfully installed torch-1.8.1+cpu typing-extensions-3.10.0.0\n"
     ]
    }
   ],
   "source": [
    "#hide\n",
    "!pip install torch==1.8.1+cpu -f https://download.pytorch.org/whl/torch_stable.html"
   ]
  },
  {
   "cell_type": "code",
   "execution_count": null,
   "metadata": {},
   "outputs": [],
   "source": [
    "import torch\n",
    "import numpy as np"
   ]
  },
  {
   "cell_type": "markdown",
   "metadata": {},
   "source": [
    "Agnostic `cat`\n",
    "-------------------\n",
    "\n",
    "I need an agnostic cat function that's going to produce concatenated arrays or tensors regardless of what's passed. Also, using this hack so it doesn't care if Numpy or PyTorch aren't installed."
   ]
  },
  {
   "cell_type": "code",
   "execution_count": null,
   "metadata": {},
   "outputs": [],
   "source": [
    "#export\n",
    "try:\n",
    "    import torch\n",
    "except ImportError:\n",
    "    pass\n",
    "try:\n",
    "    import numpy as np\n",
    "except ImportError:\n",
    "    pass\n",
    "from einops import rearrange, repeat, reduce\n",
    "\n",
    "def cat(xs, axis):\n",
    "    try:\n",
    "        return torch.cat(xs, axis)\n",
    "    except TypeError:\n",
    "        return np.concatenate(xs, axis=axis)"
   ]
  },
  {
   "cell_type": "markdown",
   "metadata": {},
   "source": [
    "Showing that this works with either arrays or tensors:"
   ]
  },
  {
   "cell_type": "code",
   "execution_count": null,
   "metadata": {},
   "outputs": [
    {
     "data": {
      "text/plain": [
       "array([[ 1.76405235,  0.40015721,  1.86755799, -0.97727788, -0.10321885,\n",
       "         0.4105985 ,  0.76103773,  0.12167502],\n",
       "       [ 0.97873798,  2.2408932 ,  0.95008842, -0.15135721,  0.14404357,\n",
       "         1.45427351,  0.44386323,  0.33367433]])"
      ]
     },
     "execution_count": null,
     "metadata": {},
     "output_type": "execute_result"
    }
   ],
   "source": [
    "np.random.seed(0)\n",
    "xs = [np.random.randn(2,2) for _ in range(4)]\n",
    "c = cat(xs, 1)\n",
    "c"
   ]
  },
  {
   "cell_type": "code",
   "execution_count": null,
   "metadata": {},
   "outputs": [
    {
     "data": {
      "text/plain": [
       "tensor([[ 1.7641,  0.4002,  1.8676, -0.9773, -0.1032,  0.4106,  0.7610,  0.1217],\n",
       "        [ 0.9787,  2.2409,  0.9501, -0.1514,  0.1440,  1.4543,  0.4439,  0.3337]],\n",
       "       dtype=torch.float64)"
      ]
     },
     "execution_count": null,
     "metadata": {},
     "output_type": "execute_result"
    }
   ],
   "source": [
    "xs = [torch.tensor(x) for x in xs]\n",
    "_c = cat(xs, 1)\n",
    "assert np.abs(c - _c.numpy()).max() < 1e-3\n",
    "_c"
   ]
  },
  {
   "cell_type": "markdown",
   "metadata": {},
   "source": [
    "Pairing\n",
    "--------\n",
    "\n",
    "This is closely based on [Kai Arulkumaran's relation function][kai] so I'm going to test the results of einops operations against that code. The first function I need concatenates the cartesian product of pairs on the trailing dimension. Example of what a cartesian product is:\n",
    "\n",
    "[kai]: https://github.com/Kaixhin/pytorch/blob/3e49e198c2351c24f32365713db9639d232b8e3e/torch/nn/functional.py"
   ]
  },
  {
   "cell_type": "code",
   "execution_count": null,
   "metadata": {},
   "outputs": [
    {
     "data": {
      "image/svg+xml": [
       "<svg xmlns:dc=\"http://purl.org/dc/elements/1.1/\" xmlns:cc=\"http://creativecommons.org/ns#\" xmlns:rdf=\"http://www.w3.org/1999/02/22-rdf-syntax-ns#\" xmlns:svg=\"http://www.w3.org/2000/svg\" xmlns=\"http://www.w3.org/2000/svg\" xmlns:sodipodi=\"http://sodipodi.sourceforge.net/DTD/sodipodi-0.dtd\" xmlns:inkscape=\"http://www.inkscape.org/namespaces/inkscape\" width=\"501.04968\" height=\"381\" id=\"svg2\" version=\"1.1\" inkscape:version=\"0.48.0 r9654\" sodipodi:docname=\"kart-prod-1.svg\">\n",
       "  <defs id=\"defs4\"/>\n",
       "  <sodipodi:namedview id=\"base\" pagecolor=\"#ffffff\" bordercolor=\"#666666\" borderopacity=\"1.0\" inkscape:pageopacity=\"0.0\" inkscape:pageshadow=\"2\" inkscape:zoom=\"1.4\" inkscape:cx=\"246.42474\" inkscape:cy=\"196.08422\" inkscape:document-units=\"px\" inkscape:current-layer=\"layer1\" showgrid=\"true\" inkscape:snap-grids=\"true\" inkscape:snap-to-guides=\"true\" inkscape:snap-global=\"false\" inkscape:window-width=\"1621\" inkscape:window-height=\"878\" inkscape:window-x=\"25\" inkscape:window-y=\"25\" inkscape:window-maximized=\"0\" fit-margin-top=\"10\" fit-margin-left=\"10\" fit-margin-right=\"10\" fit-margin-bottom=\"10\" showborder=\"true\" showguides=\"true\" inkscape:guide-bbox=\"true\">\n",
       "    <inkscape:grid type=\"xygrid\" id=\"grid2985\" empspacing=\"5\" visible=\"true\" enabled=\"true\" snapvisiblegridlinesonly=\"true\" spacingx=\"10px\" spacingy=\"10px\"/>\n",
       "  </sodipodi:namedview>\n",
       "  <metadata id=\"metadata7\">\n",
       "    <rdf:RDF>\n",
       "      <cc:Work rdf:about=\"\">\n",
       "        <dc:format>image/svg+xml</dc:format>\n",
       "        <dc:type rdf:resource=\"http://purl.org/dc/dcmitype/StillImage\"/>\n",
       "        <dc:title/>\n",
       "      </cc:Work>\n",
       "    </rdf:RDF>\n",
       "  </metadata>\n",
       "  <g inkscape:label=\"Ebene 1\" inkscape:groupmode=\"layer\" id=\"layer1\" transform=\"translate(-100.21094,-341.86218)\">\n",
       "    <rect style=\"opacity:0.15;fill:#008080;fill-opacity:1;stroke:none\" id=\"rect4118\" width=\"300\" height=\"300\" x=\"200\" y=\"412.36218\" rx=\"70\" ry=\"70\"/>\n",
       "    <path style=\"fill:none;stroke:#000000;stroke-width:1;stroke-linecap:butt;stroke-linejoin:miter;stroke-miterlimit:4;stroke-opacity:1;stroke-dasharray:2, 2;stroke-dashoffset:0\" d=\"m 300,412.36218 0,300\" id=\"path2991\" inkscape:connector-curvature=\"0\" sodipodi:nodetypes=\"cc\"/>\n",
       "    <path style=\"fill:none;stroke:#000000;stroke-width:1;stroke-linecap:butt;stroke-linejoin:miter;stroke-miterlimit:4;stroke-opacity:1;stroke-dasharray:2, 2;stroke-dashoffset:0\" d=\"m 400,412.36218 0,300\" id=\"path2993\" inkscape:connector-curvature=\"0\" sodipodi:nodetypes=\"cc\"/>\n",
       "    <path sodipodi:type=\"arc\" style=\"opacity:0.14999999999999999;fill:#d40000;fill-opacity:1;stroke:none\" id=\"path3307\" sodipodi:cx=\"175\" sodipodi:cy=\"502.36218\" sodipodi:rx=\"25\" sodipodi:ry=\"150\" d=\"m 200,502.36218 a 25,150 0 1 1 -50,0 25,150 0 1 1 50,0 z\" transform=\"translate(-10,60)\"/>\n",
       "    <path style=\"fill:none;stroke:#000000;stroke-width:1;stroke-linecap:butt;stroke-linejoin:miter;stroke-miterlimit:4;stroke-opacity:1;stroke-dasharray:2, 2;stroke-dashoffset:0\" d=\"m 200,512.36218 300,0\" id=\"path2999\" inkscape:connector-curvature=\"0\" sodipodi:nodetypes=\"cc\"/>\n",
       "    <path style=\"fill:none;stroke:#000000;stroke-width:1;stroke-linecap:butt;stroke-linejoin:miter;stroke-miterlimit:4;stroke-opacity:1;stroke-dasharray:2, 2;stroke-dashoffset:0\" d=\"m 200,612.36218 300,0\" id=\"path3001\" inkscape:connector-curvature=\"0\" sodipodi:nodetypes=\"cc\"/>\n",
       "    <text xml:space=\"preserve\" style=\"font-size:56px;font-style:normal;font-variant:normal;font-weight:normal;font-stretch:normal;text-align:end;line-height:125%;letter-spacing:0px;word-spacing:0px;writing-mode:lr-tb;text-anchor:end;fill:#000000;fill-opacity:1;stroke:none;font-family:Arial;-inkscape-font-specification:Arial\" x=\"282.28564\" y=\"671.07648\" id=\"text3034\" sodipodi:linespacing=\"125%\"><tspan sodipodi:role=\"line\" id=\"tspan3036\" x=\"282.28564\" y=\"671.07648\" style=\"font-size:32px\">(<tspan style=\"font-style:oblique;fill:#d40000;-inkscape-font-specification:Arial Oblique\" id=\"tspan3075\">z</tspan>,<tspan style=\"fill:#008000\" id=\"tspan3089\">1</tspan>)</tspan></text>\n",
       "    <text xml:space=\"preserve\" style=\"font-size:56px;font-style:normal;font-variant:normal;font-weight:normal;font-stretch:normal;text-align:end;line-height:125%;letter-spacing:0px;word-spacing:0px;writing-mode:lr-tb;text-anchor:end;fill:#000000;fill-opacity:1;stroke:none;font-family:Arial;-inkscape-font-specification:Arial\" x=\"382.42853\" y=\"671.07648\" id=\"text3034-0\" sodipodi:linespacing=\"125%\"><tspan sodipodi:role=\"line\" id=\"tspan3036-2\" x=\"382.42853\" y=\"671.07648\" style=\"font-size:32px\">(<tspan style=\"font-style:oblique;fill:#d40000;-inkscape-font-specification:Arial Oblique\" id=\"tspan3081\">z</tspan>,<tspan style=\"fill:#008000\" id=\"tspan3093\">2</tspan>)</tspan></text>\n",
       "    <text xml:space=\"preserve\" style=\"font-size:56px;font-style:normal;font-variant:normal;font-weight:normal;font-stretch:normal;text-align:end;line-height:125%;letter-spacing:0px;word-spacing:0px;writing-mode:lr-tb;text-anchor:end;fill:#000000;fill-opacity:1;stroke:none;font-family:Arial;-inkscape-font-specification:Arial\" x=\"482.42853\" y=\"671.07648\" id=\"text3034-8\" sodipodi:linespacing=\"125%\"><tspan sodipodi:role=\"line\" id=\"tspan3036-9\" x=\"482.42853\" y=\"671.07648\" style=\"font-size:32px\">(<tspan style=\"font-style:oblique;fill:#d40000;-inkscape-font-specification:Arial Oblique\" id=\"tspan3329\">z</tspan>,<tspan style=\"fill:#008000\" id=\"tspan3066\">3</tspan>)</tspan></text>\n",
       "    <text xml:space=\"preserve\" style=\"font-size:56px;font-style:normal;font-variant:normal;font-weight:normal;font-stretch:normal;text-align:end;line-height:125%;letter-spacing:0px;word-spacing:0px;writing-mode:lr-tb;text-anchor:end;fill:#000000;fill-opacity:1;stroke:none;font-family:Arial;-inkscape-font-specification:Arial\" x=\"282.28564\" y=\"571.07648\" id=\"text3034-1\" sodipodi:linespacing=\"125%\"><tspan sodipodi:role=\"line\" id=\"tspan3036-8\" x=\"282.28564\" y=\"571.07648\" style=\"font-size:32px\">(<tspan style=\"font-style:oblique;fill:#d40000;-inkscape-font-specification:Arial Oblique\" id=\"tspan3067\">y</tspan>,<tspan style=\"fill:#008000\" id=\"tspan3087\">1</tspan>)</tspan></text>\n",
       "    <text xml:space=\"preserve\" style=\"font-size:56px;font-style:normal;font-variant:normal;font-weight:normal;font-stretch:normal;text-align:end;line-height:125%;letter-spacing:0px;word-spacing:0px;writing-mode:lr-tb;text-anchor:end;fill:#000000;fill-opacity:1;stroke:none;font-family:Arial;-inkscape-font-specification:Arial\" x=\"382.42853\" y=\"571.07648\" id=\"text3034-0-6\" sodipodi:linespacing=\"125%\"><tspan sodipodi:role=\"line\" id=\"tspan3036-2-0\" x=\"382.42853\" y=\"571.07648\" style=\"font-size:32px\">(<tspan style=\"font-style:oblique;fill:#d40000;-inkscape-font-specification:Arial Oblique\" id=\"tspan3325\">y</tspan>,<tspan style=\"fill:#008000\" id=\"tspan3254\">2</tspan>)</tspan></text>\n",
       "    <text xml:space=\"preserve\" style=\"font-size:56px;font-style:normal;font-variant:normal;font-weight:normal;font-stretch:normal;text-align:end;line-height:125%;letter-spacing:0px;word-spacing:0px;writing-mode:lr-tb;text-anchor:end;fill:#000000;fill-opacity:1;stroke:none;font-family:Arial;-inkscape-font-specification:Arial\" x=\"482.42853\" y=\"571.07648\" id=\"text3034-8-4\" sodipodi:linespacing=\"125%\"><tspan sodipodi:role=\"line\" id=\"tspan3036-9-7\" x=\"482.42853\" y=\"571.07648\" style=\"font-size:32px\">(<tspan style=\"font-style:oblique;fill:#d40000;-inkscape-font-specification:Arial Oblique\" id=\"tspan3071\">y</tspan>,<tspan style=\"fill:#008000\" id=\"tspan3097\">3</tspan>)</tspan></text>\n",
       "    <text xml:space=\"preserve\" style=\"font-size:56px;font-style:normal;font-variant:normal;font-weight:normal;font-stretch:normal;text-align:end;line-height:125%;letter-spacing:0px;word-spacing:0px;writing-mode:lr-tb;text-anchor:end;fill:#000000;fill-opacity:1;stroke:none;font-family:Arial;-inkscape-font-specification:Arial\" x=\"282.28564\" y=\"471.07648\" id=\"text3034-3\" sodipodi:linespacing=\"125%\"><tspan sodipodi:role=\"line\" id=\"tspan3036-6\" x=\"282.28564\" y=\"471.07648\" style=\"font-size:32px\">(<tspan style=\"font-style:oblique;fill:#d40000;-inkscape-font-specification:Arial Oblique\" id=\"tspan3311\">x</tspan>,<tspan style=\"fill:#008000\" id=\"tspan3058\">1</tspan>)</tspan></text>\n",
       "    <text xml:space=\"preserve\" style=\"font-size:56px;font-style:normal;font-variant:normal;font-weight:normal;font-stretch:normal;text-align:end;line-height:125%;letter-spacing:0px;word-spacing:0px;writing-mode:lr-tb;text-anchor:end;fill:#000000;fill-opacity:1;stroke:none;font-family:Arial;-inkscape-font-specification:Arial\" x=\"382.42853\" y=\"471.07648\" id=\"text3034-0-2\" sodipodi:linespacing=\"125%\"><tspan sodipodi:role=\"line\" id=\"tspan3036-2-4\" x=\"382.42853\" y=\"471.07648\" style=\"font-size:32px\">(<tspan style=\"font-style:oblique;fill:#d40000;-inkscape-font-specification:Arial Oblique\" id=\"tspan3057\">x</tspan>,<tspan style=\"fill:#008000\" id=\"tspan3091\">2</tspan>)</tspan></text>\n",
       "    <text xml:space=\"preserve\" style=\"font-size:56px;font-style:normal;font-variant:normal;font-weight:normal;font-stretch:normal;text-align:end;line-height:125%;letter-spacing:0px;word-spacing:0px;writing-mode:lr-tb;text-anchor:end;fill:#000000;fill-opacity:1;stroke:none;font-family:Arial;-inkscape-font-specification:Arial\" x=\"482.42853\" y=\"471.07648\" id=\"text3034-8-9\" sodipodi:linespacing=\"125%\"><tspan sodipodi:role=\"line\" id=\"tspan3036-9-73\" x=\"482.42853\" y=\"471.07648\" style=\"font-size:32px\">(<tspan style=\"font-style:oblique;fill:#d40000;-inkscape-font-specification:Arial Oblique\" id=\"tspan3061\">x</tspan>,<tspan style=\"fill:#008000\" id=\"tspan3095\">3</tspan>)</tspan></text>\n",
       "    <text xml:space=\"preserve\" style=\"font-size:56px;font-style:normal;font-variant:normal;font-weight:normal;font-stretch:normal;text-align:end;line-height:125%;letter-spacing:0px;word-spacing:0px;writing-mode:lr-tb;text-anchor:end;fill:#000000;fill-opacity:1;stroke:none;font-family:cmmi12;-inkscape-font-specification:cmmi12\" x=\"237.85715\" y=\"673.79077\" id=\"text3118\" sodipodi:linespacing=\"125%\"><tspan sodipodi:role=\"line\" id=\"tspan3120\" x=\"237.85715\" y=\"673.79077\"/></text>\n",
       "    <path sodipodi:type=\"arc\" style=\"opacity:0.14999999999999999;fill:#008000;fill-opacity:1;stroke:none\" id=\"path3309\" sodipodi:cx=\"350\" sodipodi:cy=\"677.36218\" sodipodi:rx=\"150\" sodipodi:ry=\"25\" d=\"m 500,677.36218 a 150,25 0 1 1 -300,0 150,25 0 1 1 300,0 z\" transform=\"translate(0,-300)\"/>\n",
       "    <text xml:space=\"preserve\" style=\"font-size:56px;font-style:normal;font-variant:normal;font-weight:normal;font-stretch:normal;text-align:end;line-height:125%;letter-spacing:0px;word-spacing:0px;writing-mode:lr-tb;text-anchor:end;fill:#000000;fill-opacity:1;stroke:none;font-family:Arial;-inkscape-font-specification:Arial\" x=\"261.85712\" y=\"387.07648\" id=\"text3034-5\" sodipodi:linespacing=\"125%\"><tspan sodipodi:role=\"line\" id=\"tspan3036-82\" x=\"261.85712\" y=\"387.07648\" style=\"font-size:32px;font-style:normal;fill:#008000;-inkscape-font-specification:Arial\">1</tspan></text>\n",
       "    <text xml:space=\"preserve\" style=\"font-size:56px;font-style:normal;font-variant:normal;font-weight:normal;font-stretch:normal;text-align:end;line-height:125%;letter-spacing:0px;word-spacing:0px;writing-mode:lr-tb;text-anchor:end;fill:#000000;fill-opacity:1;stroke:none;font-family:Arial;-inkscape-font-specification:Arial\" x=\"362\" y=\"387.07648\" id=\"text3034-5-9\" sodipodi:linespacing=\"125%\"><tspan sodipodi:role=\"line\" id=\"tspan3036-82-3\" x=\"362\" y=\"387.07648\" style=\"font-size:32px;font-style:normal;fill:#008000;-inkscape-font-specification:Arial\">2</tspan></text>\n",
       "    <text xml:space=\"preserve\" style=\"font-size:56px;font-style:normal;font-variant:normal;font-weight:normal;font-stretch:normal;text-align:end;line-height:125%;letter-spacing:0px;word-spacing:0px;writing-mode:lr-tb;text-anchor:end;fill:#000000;fill-opacity:1;stroke:none;font-family:Arial;-inkscape-font-specification:Arial\" x=\"462\" y=\"387.07648\" id=\"text3034-5-2\" sodipodi:linespacing=\"125%\"><tspan sodipodi:role=\"line\" id=\"tspan3036-82-6\" x=\"462\" y=\"387.07648\" style=\"font-size:32px;font-style:normal;fill:#008000;-inkscape-font-specification:Arial\">3</tspan></text>\n",
       "    <text xml:space=\"preserve\" style=\"font-size:56px;font-style:normal;font-variant:normal;font-weight:normal;font-stretch:normal;text-align:end;line-height:125%;letter-spacing:0px;word-spacing:0px;writing-mode:lr-tb;text-anchor:end;fill:#000000;fill-opacity:1;stroke:none;font-family:Arial;-inkscape-font-specification:Arial\" x=\"173.42856\" y=\"671.05621\" id=\"text3034-5-5\" sodipodi:linespacing=\"125%\"><tspan sodipodi:role=\"line\" id=\"tspan3036-82-5\" x=\"173.42856\" y=\"671.05621\" style=\"font-size:32px;font-style:oblique;fill:#d40000;-inkscape-font-specification:Arial Oblique\">z</tspan></text>\n",
       "    <text xml:space=\"preserve\" style=\"font-size:56px;font-style:normal;font-variant:normal;font-weight:normal;font-stretch:normal;text-align:end;line-height:125%;letter-spacing:0px;word-spacing:0px;writing-mode:lr-tb;text-anchor:end;fill:#000000;fill-opacity:1;stroke:none;font-family:Arial;-inkscape-font-specification:Arial\" x=\"173.42856\" y=\"571.05621\" id=\"text3034-5-5-2\" sodipodi:linespacing=\"125%\"><tspan sodipodi:role=\"line\" id=\"tspan3036-82-5-0\" x=\"173.42856\" y=\"571.05621\" style=\"font-size:32px;font-style:oblique;fill:#d40000;-inkscape-font-specification:Arial Oblique\">y</tspan></text>\n",
       "    <text xml:space=\"preserve\" style=\"font-size:56px;font-style:oblique;font-variant:normal;font-weight:normal;font-stretch:normal;text-align:end;line-height:125%;letter-spacing:0px;word-spacing:0px;writing-mode:lr-tb;text-anchor:end;fill:#000000;fill-opacity:1;stroke:none;font-family:Arial;-inkscape-font-specification:Arial Oblique\" x=\"173.42856\" y=\"471.05621\" id=\"text3034-5-5-5\" sodipodi:linespacing=\"125%\"><tspan sodipodi:role=\"line\" id=\"tspan3036-82-5-2\" x=\"173.42856\" y=\"471.05621\" style=\"font-size:32px;fill:#d40000;font-style:oblique;-inkscape-font-specification:Arial Oblique\">x</tspan></text>\n",
       "    <rect style=\"fill:none;stroke:#008080\" id=\"rect4118-2\" width=\"300\" height=\"300\" x=\"200\" y=\"412.36218\" rx=\"70\" ry=\"70\"/>\n",
       "    <path sodipodi:type=\"arc\" style=\"fill:none;stroke:#d40000\" id=\"path3307-2\" sodipodi:cx=\"175\" sodipodi:cy=\"502.36218\" sodipodi:rx=\"25\" sodipodi:ry=\"150\" d=\"m 200,502.36218 a 25,150 0 1 1 -50,0 25,150 0 1 1 50,0 z\" transform=\"translate(-10,60)\"/>\n",
       "    <path sodipodi:type=\"arc\" style=\"fill:none;stroke:#008000\" id=\"path3309-9\" sodipodi:cx=\"350\" sodipodi:cy=\"677.36218\" sodipodi:rx=\"150\" sodipodi:ry=\"25\" d=\"m 500,677.36218 a 150,25 0 1 1 -300,0 150,25 0 1 1 300,0 z\" transform=\"translate(0,-300)\"/>\n",
       "    <text xml:space=\"preserve\" style=\"font-size:56px;font-style:normal;font-variant:normal;font-weight:normal;font-stretch:normal;text-align:end;line-height:125%;letter-spacing:0px;word-spacing:0px;writing-mode:lr-tb;text-anchor:end;fill:#000000;fill-opacity:1;stroke:none;font-family:cmmi12;-inkscape-font-specification:cmmi12\" x=\"566.42859\" y=\"708.07648\" id=\"text4174\" sodipodi:linespacing=\"125%\"><tspan sodipodi:role=\"line\" id=\"tspan4176\" x=\"566.42859\" y=\"708.07648\"/></text>\n",
       "    <text xml:space=\"preserve\" style=\"font-size:56px;font-style:normal;font-variant:normal;font-weight:normal;font-stretch:normal;text-align:end;line-height:125%;letter-spacing:0px;word-spacing:0px;writing-mode:lr-tb;text-anchor:end;fill:#000000;fill-opacity:1;stroke:none;font-family:Arial;-inkscape-font-specification:Arial\" x=\"537.85718\" y=\"402.36218\" id=\"text3034-5-5-6\" sodipodi:linespacing=\"125%\"><tspan sodipodi:role=\"line\" id=\"tspan3036-82-5-4\" x=\"537.85718\" y=\"402.36218\" style=\"font-size:40px;font-style:oblique;fill:#000000;-inkscape-font-specification:Arial Oblique\">B</tspan></text>\n",
       "    <text xml:space=\"preserve\" style=\"font-size:56px;font-style:normal;font-variant:normal;font-weight:normal;font-stretch:normal;text-align:end;line-height:125%;letter-spacing:0px;word-spacing:0px;writing-mode:lr-tb;text-anchor:end;fill:#000000;fill-opacity:1;stroke:none;font-family:Arial;-inkscape-font-specification:Arial\" x=\"134\" y=\"444.36218\" id=\"text3034-5-5-6-0\" sodipodi:linespacing=\"125%\"><tspan sodipodi:role=\"line\" id=\"tspan3036-82-5-4-4\" x=\"134\" y=\"444.36218\" style=\"font-size:40px;font-style:oblique;fill:#000000;-inkscape-font-specification:Arial Oblique\">A</tspan></text>\n",
       "    <text xml:space=\"preserve\" style=\"font-size:40px;font-style:normal;font-variant:normal;font-weight:normal;font-stretch:normal;text-align:end;line-height:125%;letter-spacing:0px;word-spacing:0px;writing-mode:lr-tb;text-anchor:end;fill:#000000;fill-opacity:1;stroke:none;font-family:Arial;-inkscape-font-specification:Arial\" x=\"593.42859\" y=\"546.36218\" id=\"text3034-5-5-6-4\" sodipodi:linespacing=\"125%\"><tspan sodipodi:role=\"line\" id=\"tspan4229\" x=\"593.42859\" y=\"546.36218\" dy=\"0 0.71428573\"><tspan style=\"font-style:oblique;-inkscape-font-specification:Arial Oblique\" id=\"tspan4283\">A</tspan>×<tspan style=\"font-style:oblique;-inkscape-font-specification:Arial Oblique\" id=\"tspan4285\">B</tspan></tspan></text>\n",
       "    <path style=\"fill:#000000;stroke:#000000;stroke-width:1px;stroke-linecap:butt;stroke-linejoin:miter;stroke-opacity:1\" d=\"M 150.89286,438.43361 134.6967,433.11979\" id=\"path4277\" inkscape:connector-curvature=\"0\" sodipodi:nodetypes=\"cc\"/>\n",
       "    <path style=\"fill:none;stroke:#000000;stroke-width:1px;stroke-linecap:butt;stroke-linejoin:miter;stroke-opacity:1\" d=\"M 511.03572,388.46932 496.75,382.93361\" id=\"path4279\" inkscape:connector-curvature=\"0\" sodipodi:nodetypes=\"cc\"/>\n",
       "    <path style=\"fill:none;stroke:#000000;stroke-width:1px;stroke-linecap:butt;stroke-linejoin:miter;stroke-opacity:1\" d=\"m 516.25,532.94253 -15.86113,3.35456\" id=\"path4281\" inkscape:connector-curvature=\"0\" sodipodi:nodetypes=\"cc\"/>\n",
       "  </g>\n",
       "</svg>"
      ],
      "text/plain": [
       "<IPython.core.display.SVG object>"
      ]
     },
     "metadata": {},
     "output_type": "display_data"
    }
   ],
   "source": [
    "import urllib\n",
    "from IPython.display import display,SVG\n",
    "u = \"https://upload.wikimedia.org/wikipedia/commons/4/4e/Cartesian_Product_qtl1.svg\"\n",
    "with urllib.request.urlopen(u) as f:\n",
    "    svg_string = f.read()\n",
    "display(SVG(svg_string))"
   ]
  },
  {
   "cell_type": "markdown",
   "metadata": {},
   "source": [
    "It might be possible to do this with [torch.cartesian_prod][prod] and [gather][] but it also needs to be batched. Instead, I do it here using repeat.\n",
    "\n",
    "[gather]: https://pytorch.org/docs/stable/generated/torch.gather.html\n",
    "[prod]: https://pytorch.org/docs/stable/generated/torch.cartesian_prod.html"
   ]
  },
  {
   "cell_type": "code",
   "execution_count": null,
   "metadata": {},
   "outputs": [],
   "source": [
    "torch.manual_seed(0)\n",
    "x = torch.randn(4,8,16)"
   ]
  },
  {
   "cell_type": "markdown",
   "metadata": {},
   "source": [
    "Copying Kai's code and using einops:"
   ]
  },
  {
   "cell_type": "code",
   "execution_count": null,
   "metadata": {},
   "outputs": [],
   "source": [
    "def kai_prodpair(x):\n",
    "    b, o, c = x.shape\n",
    "    return torch.cat((x.unsqueeze(1).expand(b, o, o, c).contiguous().view(b, o * o, c),\n",
    "                      x.unsqueeze(2).expand(b, o, o, c).contiguous().view(b, o * o, c)), 2)\n",
    "\n",
    "def prodpair(x):\n",
    "    b, o, c = x.shape\n",
    "    return cat([repeat(x, 'b o c -> b (m o) c', m=o),\n",
    "                repeat(x, 'b o c -> b (o m) c', m=o)], 2)"
   ]
  },
  {
   "cell_type": "markdown",
   "metadata": {},
   "source": [
    "I'm going to need to check if a lot of tensors are equal so we'll need this utility function:"
   ]
  },
  {
   "cell_type": "code",
   "execution_count": null,
   "metadata": {},
   "outputs": [],
   "source": [
    "def allclose(a, b, epsilon=1e-3):\n",
    "    return torch.abs(a - b).max() < epsilon"
   ]
  },
  {
   "cell_type": "code",
   "execution_count": null,
   "metadata": {},
   "outputs": [],
   "source": [
    "assert allclose(kai_prodpair(x), prodpair(x))"
   ]
  },
  {
   "cell_type": "markdown",
   "metadata": {},
   "source": [
    "I wanted to check if this was precisely a cartesian product, but it's not because of the order of the arguments into `cat`."
   ]
  },
  {
   "cell_type": "code",
   "execution_count": null,
   "metadata": {},
   "outputs": [],
   "source": [
    "def cartesian_trailing(x):\n",
    "    out = []\n",
    "    b, o, c = x.shape\n",
    "    for i in range(b):\n",
    "        for j in range(o):\n",
    "            for k in range(o):\n",
    "                a, b = x[i, j], x[i, k]\n",
    "                out.append(rearrange(cat([a,b], 0), 'c2 -> () c2'))\n",
    "    return rearrange(cat(out, 0), '(b osq) c2 -> b osq c2', osq=o**2, c2=2*c)"
   ]
  },
  {
   "cell_type": "code",
   "execution_count": null,
   "metadata": {},
   "outputs": [
    {
     "name": "stdout",
     "output_type": "stream",
     "text": [
      "Is prodpair a cartesian product? no\n"
     ]
    }
   ],
   "source": [
    "eq = allclose(prodpair(x), cartesian_trailing(x))\n",
    "print(f\"Is prodpair a cartesian product? {'yes' if eq.item() else 'no'}\")"
   ]
  },
  {
   "cell_type": "markdown",
   "metadata": {},
   "source": [
    "So, I'll reverse that for the implementation, just so I can say it's really a cartesian product."
   ]
  },
  {
   "cell_type": "code",
   "execution_count": null,
   "metadata": {},
   "outputs": [],
   "source": [
    "#export\n",
    "def prodpair(x):\n",
    "    \"\"\"Creates cartesian pairwise matrix for each example in the minibatch,\n",
    "    pairing vectors on the trailing dimension.\"\"\"\n",
    "    b, o, c = x.shape\n",
    "    return cat([repeat(x, 'b o c -> b (o m) c', m=o),\n",
    "                repeat(x, 'b o c -> b (m o) c', m=o)], 2)"
   ]
  },
  {
   "cell_type": "code",
   "execution_count": null,
   "metadata": {},
   "outputs": [
    {
     "name": "stdout",
     "output_type": "stream",
     "text": [
      "Is prodpair a cartesian product now? yes\n"
     ]
    }
   ],
   "source": [
    "err = allclose(prodpair(x), cartesian_trailing(x))\n",
    "assert err\n",
    "print(f\"Is prodpair a cartesian product now? {'yes' if err.item() else 'no'}\")"
   ]
  },
  {
   "cell_type": "markdown",
   "metadata": {},
   "source": [
    "Append embedding\n",
    "----------------------------\n",
    "\n",
    "Relation networks need the option to add an embedding vector to each element."
   ]
  },
  {
   "cell_type": "code",
   "execution_count": null,
   "metadata": {},
   "outputs": [],
   "source": [
    "def kai_append_embedding(pairs, embedding):\n",
    "    b, osq, c2 = pairs.shape\n",
    "    return torch.cat((pairs, embedding.unsqueeze(1).expand(b, osq, embedding.size(1))), 2)"
   ]
  },
  {
   "cell_type": "code",
   "execution_count": null,
   "metadata": {},
   "outputs": [],
   "source": [
    "#export\n",
    "def append_embedding(pairs, embedding):\n",
    "    \"\"\"Add an embedding to every paired token.\"\"\"\n",
    "    b, osq, c2 = pairs.shape\n",
    "    return cat([pairs, repeat(embedding, 'b c -> b osq c', osq=osq)], 2)"
   ]
  },
  {
   "cell_type": "markdown",
   "metadata": {},
   "source": [
    "Checking the einops version is correct:"
   ]
  },
  {
   "cell_type": "code",
   "execution_count": null,
   "metadata": {},
   "outputs": [],
   "source": [
    "b, o, c = x.shape\n",
    "pairs = prodpair(x)\n",
    "embedding = torch.randn(b, c)\n",
    "assert allclose(append_embedding(pairs, embedding), kai_append_embedding(pairs, embedding))"
   ]
  },
  {
   "cell_type": "markdown",
   "metadata": {},
   "source": [
    "Applying `g`\n",
    "-----------------\n",
    "\n",
    "`g` is a function applied to all pairs and their embeddings. It's assumed to take a two dimensional tensor as input so the tensor is rearranged before and after applying it. All that's left to compute the relational function is to take the sum of the resulting representations over all pairs. I've added the option to reduce using `mean` instead if required using the kwarg `reduction`."
   ]
  },
  {
   "cell_type": "code",
   "execution_count": null,
   "metadata": {},
   "outputs": [],
   "source": [
    "#export\n",
    "def relation(input, g, embedding=None, max_pairwise=None, reduction='sum'):\n",
    "    r\"\"\"Applies an all-to-all pairwise relation function to a set of objects.\n",
    "    See :class:`~torch.nn.Relation` for details.\n",
    "    \"\"\"\n",
    "    # Batch size, number of objects, feature size\n",
    "    b, o, c = input.shape\n",
    "    # Create pairwise matrix\n",
    "    pairs = prodpair(input)\n",
    "    # Append embedding if provided\n",
    "    if embedding is not None:\n",
    "        pairs = append_embedding(pairs, embedding)\n",
    "    # Calculate new feature size\n",
    "    c = pairs.shape[2]\n",
    "    # Pack into batches\n",
    "    pairs = rearrange(pairs, 'b om c -> (b om) c') \n",
    "    # Pass through g\n",
    "    if max_pairwise is None:\n",
    "        output = g(pairs)\n",
    "    else:\n",
    "        outputs = []\n",
    "        for batch in range(0, b * o ** 2, max_pairwise):\n",
    "            outputs.append(g(pairs[batch:batch + max_pairwise]))\n",
    "        output = torch.cat(outputs, 0)\n",
    "    # Unpack\n",
    "    output = reduce(output, '(b o2) c -> b c', reduction, o2=o**2)\n",
    "    return output"
   ]
  },
  {
   "cell_type": "markdown",
   "metadata": {},
   "source": [
    "Integration test\n",
    "--------\n",
    "\n",
    "Testing that the result of this function is equal to Kai's implementation. The only difference is the order of the pairs, and that doesn't affect the result."
   ]
  },
  {
   "cell_type": "code",
   "execution_count": null,
   "metadata": {},
   "outputs": [],
   "source": [
    "def kai_relation(input, g, embedding=None, max_pairwise=None):\n",
    "    r\"\"\"Applies an all-to-all pairwise relation function to a set of objects.\n",
    "    See :class:`~torch.nn.Relation` for details.\n",
    "    \"\"\"\n",
    "    # Batch size, number of objects, feature size\n",
    "    b, o, c = input.size()\n",
    "    # Create pairwise matrix\n",
    "    pairs = torch.cat((input.unsqueeze(1).expand(b, o, o, c).contiguous().view(b, o * o, c),\n",
    "                       input.unsqueeze(2).expand(b, o, o, c).contiguous().view(b, o * o, c)), 2)\n",
    "    # Append embedding if provided\n",
    "    if embedding is not None:\n",
    "        pairs = torch.cat((pairs, embedding.unsqueeze(1).expand(b, o ** 2, embedding.size(1))), 2)\n",
    "    # Calculate new feature size\n",
    "    c = pairs.size(2)\n",
    "    # Pack into batches\n",
    "    pairs = pairs.view(b * o ** 2, c)\n",
    "    # Pass through g\n",
    "    if max_pairwise is None:\n",
    "        output = g(pairs)\n",
    "    else:\n",
    "        outputs = []\n",
    "        for batch in range(0, b * o ** 2, max_pairwise):\n",
    "            outputs.append(g(pairs[batch:batch + max_pairwise]))\n",
    "        output = torch.cat(outputs, 0)\n",
    "    # Unpack\n",
    "    output = output.view(b, o ** 2, output.size(1)).sum(1).squeeze(1)\n",
    "    return output"
   ]
  },
  {
   "cell_type": "code",
   "execution_count": null,
   "metadata": {},
   "outputs": [],
   "source": [
    "def dummy_g(x):\n",
    "    assert x.ndim == 2\n",
    "    return x"
   ]
  },
  {
   "cell_type": "code",
   "execution_count": null,
   "metadata": {},
   "outputs": [],
   "source": [
    "assert allclose(kai_relation(x, dummy_g), relation(x, dummy_g))"
   ]
  },
  {
   "cell_type": "markdown",
   "metadata": {},
   "source": [
    "Is this agnostic to numpy?\n",
    "-------------------------------------\n",
    "\n",
    "The function works the same if I cast the input to be a numpy array."
   ]
  },
  {
   "cell_type": "code",
   "execution_count": null,
   "metadata": {},
   "outputs": [],
   "source": [
    "assert allclose(torch.tensor(relation(x.numpy(), dummy_g)), relation(x, dummy_g))"
   ]
  }
 ],
 "metadata": {
  "kernelspec": {
   "display_name": "Python 3",
   "language": "python",
   "name": "python3"
  }
 },
 "nbformat": 4,
 "nbformat_minor": 2
}
